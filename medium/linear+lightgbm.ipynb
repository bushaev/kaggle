{
 "cells": [
  {
   "cell_type": "markdown",
   "metadata": {},
   "source": [
    "# Kaggle competition [How good is your medium article ?](https://www.kaggle.com/c/how-good-is-your-medium-article)"
   ]
  },
  {
   "cell_type": "markdown",
   "metadata": {},
   "source": [
    "#### This notebook requires at least 17GB of RAM"
   ]
  },
  {
   "cell_type": "markdown",
   "metadata": {},
   "source": [
    "Download data [from here](https://www.kaggle.com/c/how-good-is-your-medium-article/data)"
   ]
  },
  {
   "cell_type": "code",
   "execution_count": null,
   "metadata": {
    "_uuid": "ddcbdcf8b9e9942c03e6a4820d6c243d9bca9c9f",
    "colab": {},
    "colab_type": "code",
    "id": "bd-tM4IwdBbg"
   },
   "outputs": [],
   "source": [
    "import numpy as np # linear algebra\n",
    "import pandas as pd # data processing, CSV file I/O (e.g. pd.read_csv)\n",
    "import os\n",
    "import json\n",
    "from tqdm import tqdm_notebook\n",
    "import numpy as np\n",
    "import pandas as pd\n",
    "from sklearn.feature_extraction.text import TfidfVectorizer\n",
    "from sklearn.metrics import mean_absolute_error\n",
    "from scipy.sparse import csr_matrix, hstack\n",
    "from sklearn.linear_model import Ridge\n",
    "from html.parser import HTMLParser\n",
    "from sklearn.feature_extraction.text import TfidfVectorizer, TfidfTransformer, CountVectorizer\n",
    "from sklearn.linear_model import Ridge\n",
    "from sklearn.preprocessing import StandardScaler\n",
    "from sklearn.linear_model import Ridge\n",
    "from sklearn.model_selection import GridSearchCV\n",
    "from IPython.display import HTML\n",
    "import base64\n",
    "from bs4 import BeautifulSoup\n",
    "\n",
    "from nltk.stem.porter import PorterStemmer\n",
    "from nltk.stem.lancaster import LancasterStemmer\n",
    "from nltk.stem import WordNetLemmatizer"
   ]
  },
  {
   "cell_type": "code",
   "execution_count": null,
   "metadata": {
    "_uuid": "e12b4661919770d1f5407b4c7cc335b4d9c0142c",
    "colab": {},
    "colab_type": "code",
    "id": "O903AbAZJsRt"
   },
   "outputs": [],
   "source": [
    "stemmer = PorterStemmer()"
   ]
  },
  {
   "cell_type": "code",
   "execution_count": null,
   "metadata": {
    "_uuid": "eb0027c5e09b40442f6ce37b9f6b3d5e9c48cab6",
    "colab": {},
    "colab_type": "code",
    "id": "4Cc12_hkdZQN"
   },
   "outputs": [],
   "source": [
    "class MLStripper(HTMLParser):\n",
    "    def __init__(self):\n",
    "        self.reset()\n",
    "        self.strict = False\n",
    "        self.convert_charrefs= True\n",
    "        self.fed = []\n",
    "    def handle_data(self, d):\n",
    "        self.fed.append(d)\n",
    "    def get_data(self):\n",
    "        return ''.join(self.fed)\n",
    "\n",
    "def strip_tags(html):\n",
    "    s = MLStripper()\n",
    "    s.feed(html)\n",
    "    return s.get_data()"
   ]
  },
  {
   "cell_type": "code",
   "execution_count": null,
   "metadata": {
    "_uuid": "3e8f0d34f9840de3c6782d84799a44075092c9c6",
    "colab": {},
    "colab_type": "code",
    "id": "XJJDB6NKdeOG"
   },
   "outputs": [],
   "source": [
    "import json\n",
    "def read_json_line(line=None):\n",
    "    result = None\n",
    "    try:        \n",
    "        result = json.loads(line)\n",
    "    except Exception as e:      \n",
    "        # Find the offending character index:\n",
    "        idx_to_replace = int(str(e).split(' ')[-1].replace(')',''))      \n",
    "        # Remove the offending character:\n",
    "        new_line = list(line)\n",
    "        new_line[idx_to_replace] = ' '\n",
    "        new_line = ''.join(new_line)     \n",
    "        return read_json_line(line=new_line)\n",
    "    return result\n",
    "\n",
    "def write_line(file, line):\n",
    "    file.write(line)\n",
    "    file.write('\\n')\n",
    "\n",
    "def extract_features_and_write(path_to_data,\n",
    "                               inp_filename, is_train=True):\n",
    "    \n",
    "    c = []\n",
    "    p = []\n",
    "    t = []\n",
    "    a = []\n",
    "    features = ['content', 'published', 'title', 'author']\n",
    "    prefix = 'train' if is_train else 'test'\n",
    "    feature_files = [open(os.path.join(\".\",\n",
    "                                       '{}_{}.txt'.format(prefix, feat)),\n",
    "                          'w', encoding='utf-8')\n",
    "                     for feat in features]\n",
    "    \n",
    "    with open(os.path.join(path_to_data, inp_filename), \n",
    "              encoding='utf-8') as inp_json_file:\n",
    "\n",
    "        for line in inp_json_file:\n",
    "            json_data = read_json_line(line)\n",
    "            return json_data\n",
    "            \n",
    "            content = strip_tags(json_data['content'].replace('\\n', ' ').replace('\\r', ' '))\n",
    "            content = stemmer.stem(content)\n",
    "            c.append(content)\n",
    "            p.append(json_data['published']['$date'])\n",
    "            t.append(json_data['title'])\n",
    "            a.append(json_data['author']['url'])\n",
    "                            \n",
    "    return c, p, t, a"
   ]
  },
  {
   "cell_type": "code",
   "execution_count": null,
   "metadata": {
    "_uuid": "e80310eec042786d85c7698b554a524962c4617c"
   },
   "outputs": [],
   "source": [
    "from joblib import Parallel, delayed\n",
    "import multiprocessing\n",
    "from tqdm import tqdm_notebook\n",
    "import re\n",
    "     \n",
    "def process_line(line):\n",
    "    json_data = read_json_line(line)\n",
    "    content = json_data['content'].replace('\\n', ' ').replace('\\r', ' ')\n",
    "    content_no_html_tags = stemmer.stem(strip_tags(content))\n",
    "    published = json_data['published']['$date']\n",
    "    title = json_data['meta_tags']['title'].split('\\u2013')[0].strip() #'Medium Terms of Service – Medium Policy – Medium'\n",
    "    author = json_data['author']['url']\n",
    "    domain = json_data['domain']\n",
    "\n",
    "    tags_str = []\n",
    "    soup = BeautifulSoup(content, 'lxml')\n",
    "    try:\n",
    "        tag_block = soup.find('ul', class_='tags')\n",
    "        tags = tag_block.find_all('a')\n",
    "        for tag in tags:\n",
    "            tags_str.append(tag.text.translate({ord(' '):None, ord('-'):None}))\n",
    "        tags = ' '.join(tags_str)\n",
    "    except Exception:\n",
    "        tags = 'None'\n",
    "    return content_no_html_tags, published, title, author, domain, tags\n",
    " \n",
    "def extract_features(path_to_data):\n",
    "    \n",
    "    content_list = [] \n",
    "    published_list = [] \n",
    "    title_list = []\n",
    "    author_list = []\n",
    "    domain_list = []\n",
    "    tags_list = []\n",
    "\n",
    "    with open(path_to_data, encoding='utf-8') as inp_json_file:\n",
    "        num_cores = multiprocessing.cpu_count()\n",
    "        results = Parallel(n_jobs=num_cores)(delayed(process_line)(line) for line in tqdm_notebook(inp_json_file))\n",
    "    return zip(*results) #content_list, published_list, title_list, author_list, domain_list, tags_list, url_list\n"
   ]
  },
  {
   "cell_type": "code",
   "execution_count": null,
   "metadata": {
    "_uuid": "25d357a472e2507743eee8e2364a5c84c2ff4a94",
    "colab": {},
    "colab_type": "code",
    "id": "hJKfuPORdgM6"
   },
   "outputs": [],
   "source": [
    "PATH_TO_DATA = '../input'"
   ]
  },
  {
   "cell_type": "code",
   "execution_count": null,
   "metadata": {
    "_uuid": "47dad392f0790322aaff5d8c6fd355ae97e0854b",
    "colab": {
     "base_uri": "https://localhost:8080/",
     "height": 52
    },
    "colab_type": "code",
    "id": "dC0MIGDcdh8T",
    "outputId": "7aec42f6-43e3-45fa-9fe6-9d68c51f1ae5"
   },
   "outputs": [],
   "source": [
    "%%time\n",
    "c, t, p, a, d, tag = extract_features(PATH_TO_DATA + '/train.json')"
   ]
  },
  {
   "cell_type": "code",
   "execution_count": null,
   "metadata": {
    "_uuid": "5e48e32248223363ef971c017328da493df3d5f2"
   },
   "outputs": [],
   "source": [
    "train_df = pd.DataFrame()\n",
    "train_df['published'] = pd.to_datetime(t)\n",
    "train_df['title'] = p\n",
    "train_df['author'] = a\n",
    "train_df['domain'] = d\n",
    "train_df['tags'] = tag"
   ]
  },
  {
   "cell_type": "code",
   "execution_count": null,
   "metadata": {
    "_uuid": "a2b803196b315227246cc32b38a64d1ca6c07fb7",
    "colab": {},
    "colab_type": "code",
    "id": "DHwgI1-Admo9"
   },
   "outputs": [],
   "source": [
    "%%time\n",
    "c_test, t, p, a, d, tag = extract_features(PATH_TO_DATA + '/test.json')"
   ]
  },
  {
   "cell_type": "code",
   "execution_count": null,
   "metadata": {
    "_uuid": "69f1e5bd02c462769a07f0cfe0afa2a65bbcebbe"
   },
   "outputs": [],
   "source": [
    "test_df = pd.DataFrame()\n",
    "# test_df['content'] = c\n",
    "test_df['published'] = pd.to_datetime(t)\n",
    "test_df['title'] = p\n",
    "test_df['author'] = a\n",
    "test_df['domain'] = d\n",
    "test_df['tags'] = tag"
   ]
  },
  {
   "cell_type": "code",
   "execution_count": null,
   "metadata": {
    "_uuid": "90d1141f108ac2391ace292170d8110335c264be"
   },
   "outputs": [],
   "source": [
    "train_df['count_by_author'] = train_df.groupby('author').transform('count')['title']\n",
    "test_df['count_by_author'] = test_df.groupby('author').transform('count')['title']\n",
    "count_scaler = StandardScaler()\n",
    "train_df['count_by_author'] = count_scaler.fit_transform(train_df['count_by_author'].values.reshape(-1, 1))\n",
    "test_df['count_by_author'] = count_scaler.transform(test_df['count_by_author'].values.reshape(-1, 1))"
   ]
  },
  {
   "cell_type": "code",
   "execution_count": null,
   "metadata": {
    "_uuid": "59eba6349d8f6204d9f7dfe0841c950d63791139"
   },
   "outputs": [],
   "source": [
    "del t\n",
    "del p\n",
    "del a\n",
    "del d\n",
    "del tag"
   ]
  },
  {
   "cell_type": "code",
   "execution_count": null,
   "metadata": {
    "_uuid": "355e3729b88b095c876b5c0f405fd8e67e1db3b7",
    "colab": {
     "base_uri": "https://localhost:8080/",
     "height": 52
    },
    "colab_type": "code",
    "id": "oum9NYtUfcXD",
    "outputId": "0e02988d-3c63-4de1-cd8c-1c8abc800abf"
   },
   "outputs": [],
   "source": [
    "%%time\n",
    "cv = CountVectorizer()\n",
    "authors_train_sparse = cv.fit_transform(train_df.author.values)\n",
    "authors_test_sparse = cv.transform(test_df.author.values)"
   ]
  },
  {
   "cell_type": "code",
   "execution_count": null,
   "metadata": {
    "_uuid": "5ce443f2a029f59c73130e135fddca20e49f59d7",
    "colab": {
     "base_uri": "https://localhost:8080/",
     "height": 52
    },
    "colab_type": "code",
    "id": "JiYpiUg7gFiU",
    "outputId": "337becc1-288f-4c81-b019-1609650d1664"
   },
   "outputs": [],
   "source": [
    "%%time\n",
    "contetnt_tf = TfidfVectorizer(ngram_range=(1, 2), max_features=100000)\n",
    "content_sparse_train = contetnt_tf.fit_transform(c)\n",
    "content_sparse_test = contetnt_tf.transform(c_test)"
   ]
  },
  {
   "cell_type": "code",
   "execution_count": null,
   "metadata": {
    "_uuid": "689966aa591dd253127ed2c521795b3996bd11b0",
    "colab": {
     "base_uri": "https://localhost:8080/",
     "height": 52
    },
    "colab_type": "code",
    "id": "rpy8rWfQgHd_",
    "outputId": "a26aa399-1710-4c01-80b7-45e7f69116a8"
   },
   "outputs": [],
   "source": [
    "%%time\n",
    "titles_tf = TfidfVectorizer(ngram_range=(1, 2), max_features=100000)\n",
    "titles_sparse_train = titles_tf.fit_transform(train_df['title'])\n",
    "titles_sparse_test = titles_tf.transform(test_df['title'])"
   ]
  },
  {
   "cell_type": "code",
   "execution_count": null,
   "metadata": {
    "_uuid": "df8aee7b03428a7e80de3ca9719b2232d6a44392"
   },
   "outputs": [],
   "source": [
    "%%time\n",
    "domain_cv = CountVectorizer()\n",
    "domains_sparse_train = domain_cv.fit_transform(train_df['domain'])\n",
    "domains_sparse_test = domain_cv.transform(test_df['domain'])"
   ]
  },
  {
   "cell_type": "code",
   "execution_count": null,
   "metadata": {
    "_uuid": "1cec4e5e3ca80db7f54063e291aa5a267e408a08"
   },
   "outputs": [],
   "source": [
    "%%time\n",
    "tags_cv = CountVectorizer()\n",
    "tags_sparse_train = tags_cv.fit_transform(train_df['tags'])\n",
    "tags_sparse_test = tags_cv.transform(test_df['tags'])"
   ]
  },
  {
   "cell_type": "code",
   "execution_count": null,
   "metadata": {
    "_uuid": "0cc2c5bfb8873eb24ba7a10604380cf983044b20",
    "colab": {},
    "colab_type": "code",
    "id": "zJHGB6gVqmbe"
   },
   "outputs": [],
   "source": [
    "content_length = np.array([len(con) for con in c])\n",
    "content_length_test = np.array([len(con) for con in c_test])"
   ]
  },
  {
   "cell_type": "code",
   "execution_count": null,
   "metadata": {
    "_uuid": "8e40b4db0b318e613862b0e838dc1ed3d966288f"
   },
   "outputs": [],
   "source": [
    "def add_length_features(X, length):\n",
    "    length_s = pd.Series(length)\n",
    "    short = (length_s < 1000).astype('int32').values.reshape(-1, 1)\n",
    "    medium = ((length_s > 1000) & (length_s < 5000)).astype('int').values.reshape(-1, 1)\n",
    "    medium_large = ((length_s >= 5000) & (length_s < 10000)).astype('int').values.reshape(-1, 1)\n",
    "    large = (length_s >= 10000).astype('int').values.reshape(-1, 1)\n",
    "    \n",
    "    return hstack([X, short, medium, medium_large, large]).tocsr()"
   ]
  },
  {
   "cell_type": "code",
   "execution_count": null,
   "metadata": {
    "_uuid": "9a38a91a3c4219383c04351534cf626001a63ef7",
    "colab": {
     "base_uri": "https://localhost:8080/",
     "height": 52
    },
    "colab_type": "code",
    "id": "-losnAm2gK0F",
    "outputId": "185d75ec-825d-47f8-8b6e-bf3340ad6bbd"
   },
   "outputs": [],
   "source": [
    "%%time\n",
    "X_train_sparse = hstack([authors_train_sparse, content_sparse_train, titles_sparse_train, domains_sparse_train, tags_sparse_train]).tocsr()\n",
    "X_test_sparse = hstack([authors_test_sparse, content_sparse_test, titles_sparse_test, domains_sparse_test, tags_sparse_test]).tocsr()"
   ]
  },
  {
   "cell_type": "code",
   "execution_count": null,
   "metadata": {
    "_uuid": "7d3164b41d739f467db1f9784ecf7b66069c0e9e"
   },
   "outputs": [],
   "source": [
    "X_train_sparse = add_length_features(X_train_sparse, content_length)\n",
    "X_test_sparse = add_length_features(X_test_sparse, content_length_test)"
   ]
  },
  {
   "cell_type": "code",
   "execution_count": null,
   "metadata": {
    "_uuid": "b4e1b38a6b228d3e8e9818cc29939369b88a4432",
    "colab": {},
    "colab_type": "code",
    "id": "uF2HW0MFjvfs"
   },
   "outputs": [],
   "source": [
    "def add_date_features(X_train, X_test, pub, pub_test):\n",
    "    hour = pub.dt.hour.values\n",
    "    dow = pub.dt.dayofweek.values\n",
    "    month = pub.dt.month.values\n",
    "    year = pub.dt.year.values\n",
    "    is_day = pub.dt.day.values\n",
    "    is_weekday = (dow < 5).astype('int').reshape(-1, 1)\n",
    "    morning = ((hour >= 7) & (hour <= 11)).astype('int').reshape(-1, 1)\n",
    "    day = ((hour >= 12) & (hour <= 18)).astype('int').reshape(-1, 1)\n",
    "    evening = ((hour >= 19) & (hour <= 23)).astype('int').reshape(-1, 1)\n",
    "    night = ((hour >= 0) & (hour <= 6)).astype('int').reshape(-1, 1)\n",
    "    \n",
    "    hour_test = pub_test.dt.hour.values\n",
    "    dow_test = pub_test.dt.dayofweek.values\n",
    "    month_test = pub_test.dt.month.values\n",
    "    year_test = pub_test.dt.year.values\n",
    "    is_day_test = pub_test.dt.day.values\n",
    "    is_weekday_test = (dow_test < 5).astype('int').reshape(-1, 1)\n",
    "    morning_test = ((hour_test >= 7) & (hour_test <= 11)).astype('int').reshape(-1, 1)\n",
    "    day_test = ((hour_test >= 12) & (hour_test <= 18)).astype('int').reshape(-1, 1)\n",
    "    evening_test = ((hour_test >= 19) & (hour_test <= 23)).astype('int').reshape(-1, 1)\n",
    "    night_test = ((hour_test >= 0) & (hour_test <= 6)).astype('int').reshape(-1, 1)\n",
    "    \n",
    "    sc = StandardScaler()\n",
    "    hour = sc.fit_transform(hour.reshape(-1, 1))\n",
    "    hour_test = sc.transform(hour_test.reshape(-1, 1))\n",
    "    \n",
    "    dow = sc.fit_transform(dow.reshape(-1, 1))\n",
    "    dow_test = sc.transform(dow_test.reshape(-1, 1))\n",
    "    \n",
    "    month = sc.fit_transform(month.reshape(-1, 1))\n",
    "    month_test = sc.transform(month_test.reshape(-1, 1))\n",
    "    \n",
    "    year = sc.fit_transform(year.reshape(-1, 1))\n",
    "    year_test = sc.transform(year_test.reshape(-1, 1))\n",
    "    \n",
    "    \n",
    "    is_day = sc.fit_transform(is_day.reshape(-1, 1))\n",
    "    is_day_test = sc.transform(is_day_test.reshape(-1, 1))\n",
    "    \n",
    "    return hstack([X_train, hour, dow, month, year, morning, day, evening, night, is_day, is_weekday]).tocsr(),\\\n",
    "           hstack([X_test, hour_test, dow_test, month_test, year_test, morning_test, day_test, evening_test, night_test, is_day_test, is_weekday_test]).tocsr()"
   ]
  },
  {
   "cell_type": "code",
   "execution_count": null,
   "metadata": {
    "_uuid": "ad066398627c1d47ec9193884ca814bd44c3e8a5",
    "colab": {
     "base_uri": "https://localhost:8080/",
     "height": 86
    },
    "colab_type": "code",
    "id": "hSUl17lflaJQ",
    "outputId": "4d117d8d-903d-4dbb-9a79-7646775e6021"
   },
   "outputs": [],
   "source": [
    "%%time\n",
    "X_train, X_test = add_date_features(X_train_sparse, X_test_sparse, train_df['published'], test_df['published'])"
   ]
  },
  {
   "cell_type": "code",
   "execution_count": null,
   "metadata": {
    "_uuid": "665c1faf7c8d25b202c1fd90873fc5f4c92d73e5",
    "colab": {
     "base_uri": "https://localhost:8080/",
     "height": 34
    },
    "colab_type": "code",
    "id": "f2eHovkJldE7",
    "outputId": "9b27543a-c7fb-4b55-9457-cc2e8d5e0b52"
   },
   "outputs": [],
   "source": [
    "X_train.shape, X_test.shape"
   ]
  },
  {
   "cell_type": "code",
   "execution_count": null,
   "metadata": {
    "_uuid": "a7bcca8d296ccc216e2799536bede04868d83047"
   },
   "outputs": [],
   "source": [
    "from scipy.sparse import save_npz"
   ]
  },
  {
   "cell_type": "code",
   "execution_count": null,
   "metadata": {
    "_uuid": "ce2986eea2c99bc374da56fb8954e7c8e9cf1a04"
   },
   "outputs": [],
   "source": [
    "save_npz('train_domains_tags_author_fixed.npz', X_train)\n",
    "save_npz('test_domains_tags_author_fixed.npz', X_test)"
   ]
  },
  {
   "cell_type": "code",
   "execution_count": null,
   "metadata": {
    "_uuid": "c355995ab4b333a7fbae2ba3bb316e63a92c86a4"
   },
   "outputs": [],
   "source": [
    "train_df.to_feather('train_domains_tags_author_fixed')\n",
    "test_df.to_feather('test_domains_tags_author_fixed')"
   ]
  },
  {
   "cell_type": "code",
   "execution_count": null,
   "metadata": {
    "_uuid": "4fc901d29004daefd57b448d78d21dafefca2ccb"
   },
   "outputs": [],
   "source": [
    "!ls -lh"
   ]
  },
  {
   "cell_type": "code",
   "execution_count": null,
   "metadata": {
    "_uuid": "4e1d57dd36bc8f6f615e64b46cf209e2f207e0fa"
   },
   "outputs": [],
   "source": [
    "import gc"
   ]
  },
  {
   "cell_type": "code",
   "execution_count": null,
   "metadata": {
    "_uuid": "92986e8dbc6ac0cbe4c91e1aa7da6bff09ddf009"
   },
   "outputs": [],
   "source": [
    "del c\n",
    "del c_test\n",
    "del content_length\n",
    "del content_length_test\n",
    "gc.collect()"
   ]
  },
  {
   "cell_type": "code",
   "execution_count": null,
   "metadata": {
    "_uuid": "fd7c9663b305eccc82a09218f1c99c4f9146ff88"
   },
   "outputs": [],
   "source": [
    "del X_train_sparse\n",
    "del X_test_sparse"
   ]
  },
  {
   "cell_type": "code",
   "execution_count": null,
   "metadata": {
    "_uuid": "ab0695c001e5d8a7d27c4dc289c3e5df0900a5fb"
   },
   "outputs": [],
   "source": [
    "del content_sparse_train\n",
    "del content_sparse_test\n",
    "del titles_sparse_train\n",
    "del titles_sparse_test\n",
    "del authors_train_sparse\n",
    "del authors_test_sparse\n",
    "gc.collect()"
   ]
  },
  {
   "cell_type": "code",
   "execution_count": null,
   "metadata": {
    "_uuid": "958e70b0f321613b3a8cec065eb619744bd38ac2"
   },
   "outputs": [],
   "source": [
    "X_train = hstack([X_train, train_df['count_by_author'].values.reshape(-1, 1)]).tocsr()\n",
    "X_test = hstack([X_test, test_df['count_by_author'].values.reshape(-1, 1)]).tocsr()"
   ]
  },
  {
   "cell_type": "code",
   "execution_count": null,
   "metadata": {
    "_uuid": "4af3c5bdd923fa27131d3b88dd95d2206a125012"
   },
   "outputs": [],
   "source": [
    "del train_df\n",
    "del test_df"
   ]
  },
  {
   "cell_type": "code",
   "execution_count": null,
   "metadata": {
    "_uuid": "076f81a58c0621856b103705410ea38f509fc17d"
   },
   "outputs": [],
   "source": [
    "del domains_sparse_train\n",
    "del domains_sparse_test\n",
    "del tags_sparse_train\n",
    "del tags_sparse_test"
   ]
  },
  {
   "cell_type": "code",
   "execution_count": null,
   "metadata": {
    "_uuid": "3b30b5750a05c6b0efa6ec7119489e4b8af8a4bc"
   },
   "outputs": [],
   "source": [
    "gc.collect()"
   ]
  },
  {
   "cell_type": "markdown",
   "metadata": {
    "_uuid": "2b4114940970e59ffc2c69c50fa53f1ae231542c"
   },
   "source": [
    "# LightGBM"
   ]
  },
  {
   "cell_type": "code",
   "execution_count": null,
   "metadata": {
    "_uuid": "451902f4ecb88640ac690453217e60933c880dac"
   },
   "outputs": [],
   "source": [
    "import lightgbm as lgb"
   ]
  },
  {
   "cell_type": "code",
   "execution_count": null,
   "metadata": {
    "_uuid": "49edfa7a50682af65e9f5bdf123b3c23f353e6da",
    "colab": {},
    "colab_type": "code",
    "id": "tfDq40N1llz0"
   },
   "outputs": [],
   "source": [
    "train_target = pd.read_csv(os.path.join(PATH_TO_DATA, 'train_log1p_recommends.csv'), \n",
    "                           index_col='id')\n",
    "y_train = train_target['log_recommends'].values"
   ]
  },
  {
   "cell_type": "code",
   "execution_count": null,
   "metadata": {
    "_uuid": "1b905c050a9b33dcba343c11ead1dc626ee228f6",
    "colab": {},
    "colab_type": "code",
    "id": "mBcz1vXZlokt"
   },
   "outputs": [],
   "source": [
    "train_part_size = int(0.7 * train_target.shape[0])\n",
    "X_train_part = X_train[:train_part_size, :]\n",
    "y_train_part = y_train[:train_part_size]\n",
    "X_valid =  X_train[train_part_size:, :]\n",
    "y_valid = y_train[train_part_size:]"
   ]
  },
  {
   "cell_type": "code",
   "execution_count": null,
   "metadata": {
    "_uuid": "5f68cc8712c9745c0d4ed4684f0b1ff00980e323"
   },
   "outputs": [],
   "source": [
    "lgb_x_train_part = lgb.Dataset(X_train_part.astype(np.float32), label=y_train_part)\n",
    "lgb_x_valid = lgb.Dataset(X_valid.astype(np.float32), label=y_valid)"
   ]
  },
  {
   "cell_type": "code",
   "execution_count": null,
   "metadata": {
    "_uuid": "485b1c0367923285b348630fdd8d8f7955b5ed8c"
   },
   "outputs": [],
   "source": [
    "param = {'num_leaves': 31, 'num_trees': 200, 'objective': 'mean_absolute_error',\n",
    "        'metric': 'mae'}"
   ]
  },
  {
   "cell_type": "code",
   "execution_count": null,
   "metadata": {
    "_uuid": "b662339b7821cfaad218b101493a7217ebaca406"
   },
   "outputs": [],
   "source": [
    "%%time\n",
    "num_round = 200\n",
    "bst_lgb = lgb.train(param, lgb_x_train_part, num_round, valid_sets=[lgb_x_valid], early_stopping_rounds=20)"
   ]
  },
  {
   "cell_type": "code",
   "execution_count": null,
   "metadata": {
    "_uuid": "f2cd0370c82aadc3a8f3ad4a13f3a119ad2c5f35"
   },
   "outputs": [],
   "source": [
    "bst_lgb.save_model('gradient_200_a_fixed')"
   ]
  },
  {
   "cell_type": "code",
   "execution_count": null,
   "metadata": {
    "_uuid": "fcb6b815870a4fab4cf570ec830455392df62b5e"
   },
   "outputs": [],
   "source": [
    "!ls -lh"
   ]
  },
  {
   "cell_type": "code",
   "execution_count": null,
   "metadata": {
    "_uuid": "3c37cba69b4619c28eb1058f2413c17ce218c0a7"
   },
   "outputs": [],
   "source": [
    "lgb_pred = bst_lgb.predict(X_valid.astype(np.float32), num_iteration=bst_lgb.best_iteration)"
   ]
  },
  {
   "cell_type": "code",
   "execution_count": null,
   "metadata": {
    "_uuid": "9d09db79312791698ed332702f25a454d5823b7c"
   },
   "outputs": [],
   "source": [
    "lgb_valid_mae = mean_absolute_error(y_valid, lgb_pred)\n",
    "lgb_valid_mae, np.expm1(lgb_valid_mae)"
   ]
  },
  {
   "cell_type": "code",
   "execution_count": null,
   "metadata": {
    "_uuid": "0ac243a76889956335f751d6781bca92e2c28fbb",
    "colab": {},
    "colab_type": "code",
    "id": "MzkxegDBlp3q"
   },
   "outputs": [],
   "source": [
    "ridge = Ridge(random_state=17, alpha=0.5)"
   ]
  },
  {
   "cell_type": "code",
   "execution_count": null,
   "metadata": {
    "_uuid": "69d2c3ba0b275bde29df11ab10eab65ac10d7b04",
    "colab": {},
    "colab_type": "code",
    "id": "ND53swGy2XHJ"
   },
   "outputs": [],
   "source": [
    "params = {'alpha' : np.linspace(0.5, 1.5, 5)}"
   ]
  },
  {
   "cell_type": "code",
   "execution_count": null,
   "metadata": {
    "_uuid": "ba8f590da18f2389083b2c01fc3ab10199998fd7",
    "colab": {
     "base_uri": "https://localhost:8080/",
     "height": 139
    },
    "colab_type": "code",
    "id": "bx2VVk1X2qGt",
    "outputId": "c75015db-2f78-4a5b-f669-2d22c1b590cf"
   },
   "outputs": [],
   "source": [
    "%%time\n",
    "aphas = np.linspace(0.5, 1.5, 5)\n",
    "ridges = [Ridge(alpha = aphas[i], random_state=17) for i in range(len(aphas))]\n",
    "\n",
    "for i in range(len(aphas)):\n",
    "    alpha = aphas[i]\n",
    "    model = ridges[i]\n",
    "    model.fit(X_train_part, y_train_part)\n",
    "    ridge_pred = model.predict(X_valid)\n",
    "    valid_mae = mean_absolute_error(y_valid, ridge_pred)\n",
    "    print(valid_mae, np.expm1(valid_mae))"
   ]
  },
  {
   "cell_type": "code",
   "execution_count": null,
   "metadata": {
    "_uuid": "8ff162fb53571397c7effabe7d9779fb13e6d389"
   },
   "outputs": [],
   "source": [
    "np.linspace(0.5, 1.5, 5)"
   ]
  },
  {
   "cell_type": "code",
   "execution_count": null,
   "metadata": {
    "_uuid": "a02ab26998be5d0fd8ef3e4cd10cee43c1cfcf7d",
    "colab": {
     "base_uri": "https://localhost:8080/",
     "height": 52
    },
    "colab_type": "code",
    "id": "bPh46NwmlrTL",
    "outputId": "e36fef74-d082-4094-fc1e-1f9f9e0e7b25"
   },
   "outputs": [],
   "source": [
    "%%time\n",
    "ridge = Ridge(alpha=1, random_state=17)\n",
    "ridge.fit(X_train, y_train);"
   ]
  },
  {
   "cell_type": "code",
   "execution_count": null,
   "metadata": {
    "_uuid": "2f07155bef323123fcfc2cd393464667b6fbfa07",
    "colab": {},
    "colab_type": "code",
    "id": "6NxusG4cly7B"
   },
   "outputs": [],
   "source": [
    "ridge_pred = ridge.predict(X_valid)"
   ]
  },
  {
   "cell_type": "code",
   "execution_count": null,
   "metadata": {
    "_uuid": "c622f1913d5f6a0b41362fcacbbf3cd2417b1e05",
    "colab": {
     "base_uri": "https://localhost:8080/",
     "height": 34
    },
    "colab_type": "code",
    "id": "RpYKlE9Hl2uZ",
    "outputId": "3c17f745-bf5e-4298-c794-cc545ef1e4fe"
   },
   "outputs": [],
   "source": [
    "valid_mae = mean_absolute_error(y_valid, ridge_pred)\n",
    "valid_mae, np.expm1(valid_mae)"
   ]
  },
  {
   "cell_type": "code",
   "execution_count": null,
   "metadata": {
    "_uuid": "6c8b92151420c28d54e490a8c33edace2c1be7d1"
   },
   "outputs": [],
   "source": [
    "ridge_pred.shape"
   ]
  },
  {
   "cell_type": "code",
   "execution_count": null,
   "metadata": {
    "_uuid": "2fc39c4107f261cfb8c490f185717f210bf06ba8"
   },
   "outputs": [],
   "source": [
    "np.linspace(.7, .8, 10, endpoint=False)"
   ]
  },
  {
   "cell_type": "code",
   "execution_count": null,
   "metadata": {
    "_uuid": "9e93470ce145dea4d20428ed7d2c49cdee9dd473"
   },
   "outputs": [],
   "source": [
    "for beta in [.1, .2, .3, .4, .5, .6, .7, .8, .9]:\n",
    "    overall_preds = beta * ridge_pred + (1 - beta) * lgb_pred\n",
    "    valid_mae = mean_absolute_error(y_valid, overall_preds)\n",
    "    print(valid_mae, np.expm1(valid_mae))"
   ]
  },
  {
   "cell_type": "code",
   "execution_count": null,
   "metadata": {
    "_uuid": "fd5d4220c5a2d26c32a752b830d1d57166e0971e",
    "colab": {
     "base_uri": "https://localhost:8080/",
     "height": 52
    },
    "colab_type": "code",
    "id": "MW_RqFn2l4Y-",
    "outputId": "0aed4ee3-13a6-4402-eeb2-48e3774e3ba0"
   },
   "outputs": [],
   "source": [
    "%%time\n",
    "ridge_test_pred = ridge.predict(X_test)\n",
    "lgb_test_pred = bst_lgb.predict(X_test.astype(np.float32), num_iteration=bst_lgb.best_iteration)"
   ]
  },
  {
   "cell_type": "code",
   "execution_count": null,
   "metadata": {
    "_uuid": "17c31db401abf9c42363f51f82fa87b46c3cf55d"
   },
   "outputs": [],
   "source": [
    "overall_pred = .55 * ridge_test_pred + .45 * lgb_test_pred"
   ]
  },
  {
   "cell_type": "code",
   "execution_count": null,
   "metadata": {
    "_uuid": "56bfe8305ea9e75a346c8a1567bb54e95b4f6fb3",
    "colab": {},
    "colab_type": "code",
    "id": "Ech2vippnk6U"
   },
   "outputs": [],
   "source": [
    "mean_add = overall_pred + (4.33328 - overall_pred.mean())"
   ]
  },
  {
   "cell_type": "code",
   "execution_count": null,
   "metadata": {
    "_uuid": "eb6aec1f35549c38d45ea76678a6c42aa9befc74",
    "colab": {},
    "colab_type": "code",
    "id": "1EzFwXWGnnye"
   },
   "outputs": [],
   "source": [
    "def write_submission_file(prediction, filename,\n",
    "    path_to_sample=os.path.join(PATH_TO_DATA, 'sample_submission.csv')):\n",
    "    submission = pd.read_csv(path_to_sample, index_col='id')\n",
    "    \n",
    "    submission['log_recommends'] = prediction\n",
    "    submission.to_csv(filename)"
   ]
  },
  {
   "cell_type": "code",
   "execution_count": null,
   "metadata": {
    "_uuid": "ef6a5837a24896cbae89e6551f9f784f672104fb",
    "colab": {},
    "colab_type": "code",
    "id": "D8hOCmAQnq1-"
   },
   "outputs": [],
   "source": [
    "write_submission_file(prediction=ridge_test_pred, \n",
    "                      filename='ridge.csv')\n",
    "write_submission_file(prediction=lgb_test_pred, \n",
    "                      filename='lightgbm.csv')"
   ]
  },
  {
   "cell_type": "code",
   "execution_count": null,
   "metadata": {
    "_uuid": "90a985a2c2c6cb26848150230b93cb109936d5e8",
    "colab": {},
    "colab_type": "code",
    "id": "PRM3MKQMoBZ7"
   },
   "outputs": [],
   "source": [
    "def create_download_link(df, title = \"Download CSV file\", filename = \"data.csv\"):  \n",
    "    csv = df.to_csv()\n",
    "    b64 = base64.b64encode(csv.encode())\n",
    "    payload = b64.decode()\n",
    "    html = '<a download=\"{filename}\" href=\"data:text/csv;base64,{payload}\" target=\"_blank\">{title}</a>'\n",
    "    html = html.format(payload=payload,title=title,filename=filename)\n",
    "    return HTML(html)"
   ]
  },
  {
   "cell_type": "code",
   "execution_count": null,
   "metadata": {
    "_uuid": "52d9c398f736b98b9ccbce9d74ff5a236e1f80a2"
   },
   "outputs": [],
   "source": [
    "path_to_sample=os.path.join(PATH_TO_DATA, 'sample_submission.csv')\n",
    "submission = pd.read_csv(path_to_sample, index_col='id')\n",
    "submission['log_recommends'] = lgb_test_pred\n",
    "create_download_link(submission, filename='gradient_200_fixed_author.csv')"
   ]
  },
  {
   "cell_type": "code",
   "execution_count": null,
   "metadata": {
    "_uuid": "2fbfb7d99e0ff4286e19cf0a4c092caeac9c83fd"
   },
   "outputs": [],
   "source": []
  }
 ],
 "metadata": {
  "colab": {
   "collapsed_sections": [],
   "name": "Untitled3.ipynb",
   "provenance": [],
   "version": "0.3.2"
  },
  "kernelspec": {
   "display_name": "Python 3",
   "language": "python",
   "name": "python3"
  },
  "language_info": {
   "codemirror_mode": {
    "name": "ipython",
    "version": 3
   },
   "file_extension": ".py",
   "mimetype": "text/x-python",
   "name": "python",
   "nbconvert_exporter": "python",
   "pygments_lexer": "ipython3",
   "version": "3.6.3"
  }
 },
 "nbformat": 4,
 "nbformat_minor": 2
}
